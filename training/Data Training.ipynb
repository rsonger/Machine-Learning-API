{
 "cells": [
  {
   "cell_type": "markdown",
   "id": "f6211265",
   "metadata": {},
   "source": [
    "# Training ML Algorithms"
   ]
  },
  {
   "cell_type": "code",
   "execution_count": 1,
   "id": "7a9be440",
   "metadata": {
    "scrolled": true
   },
   "outputs": [],
   "source": [
    "import json  # for saving preprossing details\n",
    "import joblib  # for saving the algorithm and proprocessing details\n",
    "\n",
    "import numpy as np \n",
    "import pandas as pd\n",
    "from sklearn.model_selection import train_test_split\n",
    "from sklearn.preprocessing import OrdinalEncoder\n",
    "from sklearn.ensemble import RandomForestClassifier\n",
    "from sklearn.ensemble import ExtraTreesClassifier"
   ]
  },
  {
   "cell_type": "markdown",
   "id": "ff13c1ec",
   "metadata": {},
   "source": [
    "## Loading Data\n",
    "This dataset was provided by [pplonski](https://github.com/pplonski) in a [GitHub repository](https://github.com/pplonski/datasets-for-start/tree/master/adult)."
   ]
  },
  {
   "cell_type": "code",
   "execution_count": 29,
   "id": "1a83a670",
   "metadata": {},
   "outputs": [
    {
     "data": {
      "text/html": [
       "<div>\n",
       "<style scoped>\n",
       "    .dataframe tbody tr th:only-of-type {\n",
       "        vertical-align: middle;\n",
       "    }\n",
       "\n",
       "    .dataframe tbody tr th {\n",
       "        vertical-align: top;\n",
       "    }\n",
       "\n",
       "    .dataframe thead th {\n",
       "        text-align: right;\n",
       "    }\n",
       "</style>\n",
       "<table border=\"1\" class=\"dataframe\">\n",
       "  <thead>\n",
       "    <tr style=\"text-align: right;\">\n",
       "      <th></th>\n",
       "      <th>age</th>\n",
       "      <th>workclass</th>\n",
       "      <th>fnlwgt</th>\n",
       "      <th>education</th>\n",
       "      <th>education-num</th>\n",
       "      <th>marital-status</th>\n",
       "      <th>occupation</th>\n",
       "      <th>relationship</th>\n",
       "      <th>race</th>\n",
       "      <th>sex</th>\n",
       "      <th>capital-gain</th>\n",
       "      <th>capital-loss</th>\n",
       "      <th>hours-per-week</th>\n",
       "      <th>native-country</th>\n",
       "      <th>income</th>\n",
       "    </tr>\n",
       "  </thead>\n",
       "  <tbody>\n",
       "    <tr>\n",
       "      <th>0</th>\n",
       "      <td>39</td>\n",
       "      <td>State-gov</td>\n",
       "      <td>77516</td>\n",
       "      <td>Bachelors</td>\n",
       "      <td>13</td>\n",
       "      <td>Never-married</td>\n",
       "      <td>Adm-clerical</td>\n",
       "      <td>Not-in-family</td>\n",
       "      <td>White</td>\n",
       "      <td>Male</td>\n",
       "      <td>2174</td>\n",
       "      <td>0</td>\n",
       "      <td>40</td>\n",
       "      <td>United-States</td>\n",
       "      <td>&lt;=50K</td>\n",
       "    </tr>\n",
       "    <tr>\n",
       "      <th>1</th>\n",
       "      <td>50</td>\n",
       "      <td>Self-emp-not-inc</td>\n",
       "      <td>83311</td>\n",
       "      <td>Bachelors</td>\n",
       "      <td>13</td>\n",
       "      <td>Married-civ-spouse</td>\n",
       "      <td>Exec-managerial</td>\n",
       "      <td>Husband</td>\n",
       "      <td>White</td>\n",
       "      <td>Male</td>\n",
       "      <td>0</td>\n",
       "      <td>0</td>\n",
       "      <td>13</td>\n",
       "      <td>United-States</td>\n",
       "      <td>&lt;=50K</td>\n",
       "    </tr>\n",
       "    <tr>\n",
       "      <th>2</th>\n",
       "      <td>38</td>\n",
       "      <td>Private</td>\n",
       "      <td>215646</td>\n",
       "      <td>HS-grad</td>\n",
       "      <td>9</td>\n",
       "      <td>Divorced</td>\n",
       "      <td>Handlers-cleaners</td>\n",
       "      <td>Not-in-family</td>\n",
       "      <td>White</td>\n",
       "      <td>Male</td>\n",
       "      <td>0</td>\n",
       "      <td>0</td>\n",
       "      <td>40</td>\n",
       "      <td>United-States</td>\n",
       "      <td>&lt;=50K</td>\n",
       "    </tr>\n",
       "    <tr>\n",
       "      <th>3</th>\n",
       "      <td>53</td>\n",
       "      <td>Private</td>\n",
       "      <td>234721</td>\n",
       "      <td>11th</td>\n",
       "      <td>7</td>\n",
       "      <td>Married-civ-spouse</td>\n",
       "      <td>Handlers-cleaners</td>\n",
       "      <td>Husband</td>\n",
       "      <td>Black</td>\n",
       "      <td>Male</td>\n",
       "      <td>0</td>\n",
       "      <td>0</td>\n",
       "      <td>40</td>\n",
       "      <td>United-States</td>\n",
       "      <td>&lt;=50K</td>\n",
       "    </tr>\n",
       "    <tr>\n",
       "      <th>4</th>\n",
       "      <td>28</td>\n",
       "      <td>Private</td>\n",
       "      <td>338409</td>\n",
       "      <td>Bachelors</td>\n",
       "      <td>13</td>\n",
       "      <td>Married-civ-spouse</td>\n",
       "      <td>Prof-specialty</td>\n",
       "      <td>Wife</td>\n",
       "      <td>Black</td>\n",
       "      <td>Female</td>\n",
       "      <td>0</td>\n",
       "      <td>0</td>\n",
       "      <td>40</td>\n",
       "      <td>Cuba</td>\n",
       "      <td>&lt;=50K</td>\n",
       "    </tr>\n",
       "    <tr>\n",
       "      <th>...</th>\n",
       "      <td>...</td>\n",
       "      <td>...</td>\n",
       "      <td>...</td>\n",
       "      <td>...</td>\n",
       "      <td>...</td>\n",
       "      <td>...</td>\n",
       "      <td>...</td>\n",
       "      <td>...</td>\n",
       "      <td>...</td>\n",
       "      <td>...</td>\n",
       "      <td>...</td>\n",
       "      <td>...</td>\n",
       "      <td>...</td>\n",
       "      <td>...</td>\n",
       "      <td>...</td>\n",
       "    </tr>\n",
       "    <tr>\n",
       "      <th>32556</th>\n",
       "      <td>27</td>\n",
       "      <td>Private</td>\n",
       "      <td>257302</td>\n",
       "      <td>Assoc-acdm</td>\n",
       "      <td>12</td>\n",
       "      <td>Married-civ-spouse</td>\n",
       "      <td>Tech-support</td>\n",
       "      <td>Wife</td>\n",
       "      <td>White</td>\n",
       "      <td>Female</td>\n",
       "      <td>0</td>\n",
       "      <td>0</td>\n",
       "      <td>38</td>\n",
       "      <td>United-States</td>\n",
       "      <td>&lt;=50K</td>\n",
       "    </tr>\n",
       "    <tr>\n",
       "      <th>32557</th>\n",
       "      <td>40</td>\n",
       "      <td>Private</td>\n",
       "      <td>154374</td>\n",
       "      <td>HS-grad</td>\n",
       "      <td>9</td>\n",
       "      <td>Married-civ-spouse</td>\n",
       "      <td>Machine-op-inspct</td>\n",
       "      <td>Husband</td>\n",
       "      <td>White</td>\n",
       "      <td>Male</td>\n",
       "      <td>0</td>\n",
       "      <td>0</td>\n",
       "      <td>40</td>\n",
       "      <td>United-States</td>\n",
       "      <td>&gt;50K</td>\n",
       "    </tr>\n",
       "    <tr>\n",
       "      <th>32558</th>\n",
       "      <td>58</td>\n",
       "      <td>Private</td>\n",
       "      <td>151910</td>\n",
       "      <td>HS-grad</td>\n",
       "      <td>9</td>\n",
       "      <td>Widowed</td>\n",
       "      <td>Adm-clerical</td>\n",
       "      <td>Unmarried</td>\n",
       "      <td>White</td>\n",
       "      <td>Female</td>\n",
       "      <td>0</td>\n",
       "      <td>0</td>\n",
       "      <td>40</td>\n",
       "      <td>United-States</td>\n",
       "      <td>&lt;=50K</td>\n",
       "    </tr>\n",
       "    <tr>\n",
       "      <th>32559</th>\n",
       "      <td>22</td>\n",
       "      <td>Private</td>\n",
       "      <td>201490</td>\n",
       "      <td>HS-grad</td>\n",
       "      <td>9</td>\n",
       "      <td>Never-married</td>\n",
       "      <td>Adm-clerical</td>\n",
       "      <td>Own-child</td>\n",
       "      <td>White</td>\n",
       "      <td>Male</td>\n",
       "      <td>0</td>\n",
       "      <td>0</td>\n",
       "      <td>20</td>\n",
       "      <td>United-States</td>\n",
       "      <td>&lt;=50K</td>\n",
       "    </tr>\n",
       "    <tr>\n",
       "      <th>32560</th>\n",
       "      <td>52</td>\n",
       "      <td>Self-emp-inc</td>\n",
       "      <td>287927</td>\n",
       "      <td>HS-grad</td>\n",
       "      <td>9</td>\n",
       "      <td>Married-civ-spouse</td>\n",
       "      <td>Exec-managerial</td>\n",
       "      <td>Wife</td>\n",
       "      <td>White</td>\n",
       "      <td>Female</td>\n",
       "      <td>15024</td>\n",
       "      <td>0</td>\n",
       "      <td>40</td>\n",
       "      <td>United-States</td>\n",
       "      <td>&gt;50K</td>\n",
       "    </tr>\n",
       "  </tbody>\n",
       "</table>\n",
       "<p>32561 rows × 15 columns</p>\n",
       "</div>"
      ],
      "text/plain": [
       "       age         workclass  fnlwgt   education  education-num  \\\n",
       "0       39         State-gov   77516   Bachelors             13   \n",
       "1       50  Self-emp-not-inc   83311   Bachelors             13   \n",
       "2       38           Private  215646     HS-grad              9   \n",
       "3       53           Private  234721        11th              7   \n",
       "4       28           Private  338409   Bachelors             13   \n",
       "...    ...               ...     ...         ...            ...   \n",
       "32556   27           Private  257302  Assoc-acdm             12   \n",
       "32557   40           Private  154374     HS-grad              9   \n",
       "32558   58           Private  151910     HS-grad              9   \n",
       "32559   22           Private  201490     HS-grad              9   \n",
       "32560   52      Self-emp-inc  287927     HS-grad              9   \n",
       "\n",
       "           marital-status         occupation   relationship   race     sex  \\\n",
       "0           Never-married       Adm-clerical  Not-in-family  White    Male   \n",
       "1      Married-civ-spouse    Exec-managerial        Husband  White    Male   \n",
       "2                Divorced  Handlers-cleaners  Not-in-family  White    Male   \n",
       "3      Married-civ-spouse  Handlers-cleaners        Husband  Black    Male   \n",
       "4      Married-civ-spouse     Prof-specialty           Wife  Black  Female   \n",
       "...                   ...                ...            ...    ...     ...   \n",
       "32556  Married-civ-spouse       Tech-support           Wife  White  Female   \n",
       "32557  Married-civ-spouse  Machine-op-inspct        Husband  White    Male   \n",
       "32558             Widowed       Adm-clerical      Unmarried  White  Female   \n",
       "32559       Never-married       Adm-clerical      Own-child  White    Male   \n",
       "32560  Married-civ-spouse    Exec-managerial           Wife  White  Female   \n",
       "\n",
       "       capital-gain  capital-loss  hours-per-week native-country income  \n",
       "0              2174             0              40  United-States  <=50K  \n",
       "1                 0             0              13  United-States  <=50K  \n",
       "2                 0             0              40  United-States  <=50K  \n",
       "3                 0             0              40  United-States  <=50K  \n",
       "4                 0             0              40           Cuba  <=50K  \n",
       "...             ...           ...             ...            ...    ...  \n",
       "32556             0             0              38  United-States  <=50K  \n",
       "32557             0             0              40  United-States   >50K  \n",
       "32558             0             0              40  United-States  <=50K  \n",
       "32559             0             0              20  United-States  <=50K  \n",
       "32560         15024             0              40  United-States   >50K  \n",
       "\n",
       "[32561 rows x 15 columns]"
      ]
     },
     "execution_count": 29,
     "metadata": {},
     "output_type": "execute_result"
    }
   ],
   "source": [
    "df = pd.read_csv('https://raw.githubusercontent.com/pplonski/datasets-for-start/master/adult/data.csv', skipinitialspace=True)\n",
    "df"
   ]
  },
  {
   "cell_type": "markdown",
   "id": "f24602ed",
   "metadata": {},
   "source": [
    "Select the features to be trained on $X$, and the prediction target $y$."
   ]
  },
  {
   "cell_type": "code",
   "execution_count": 3,
   "id": "3b565132",
   "metadata": {},
   "outputs": [
    {
     "data": {
      "text/html": [
       "<div>\n",
       "<style scoped>\n",
       "    .dataframe tbody tr th:only-of-type {\n",
       "        vertical-align: middle;\n",
       "    }\n",
       "\n",
       "    .dataframe tbody tr th {\n",
       "        vertical-align: top;\n",
       "    }\n",
       "\n",
       "    .dataframe thead th {\n",
       "        text-align: right;\n",
       "    }\n",
       "</style>\n",
       "<table border=\"1\" class=\"dataframe\">\n",
       "  <thead>\n",
       "    <tr style=\"text-align: right;\">\n",
       "      <th></th>\n",
       "      <th>age</th>\n",
       "      <th>workclass</th>\n",
       "      <th>fnlwgt</th>\n",
       "      <th>education</th>\n",
       "      <th>education-num</th>\n",
       "      <th>marital-status</th>\n",
       "      <th>occupation</th>\n",
       "      <th>relationship</th>\n",
       "      <th>race</th>\n",
       "      <th>sex</th>\n",
       "      <th>capital-gain</th>\n",
       "      <th>capital-loss</th>\n",
       "      <th>hours-per-week</th>\n",
       "      <th>native-country</th>\n",
       "    </tr>\n",
       "  </thead>\n",
       "  <tbody>\n",
       "    <tr>\n",
       "      <th>0</th>\n",
       "      <td>39</td>\n",
       "      <td>State-gov</td>\n",
       "      <td>77516</td>\n",
       "      <td>Bachelors</td>\n",
       "      <td>13</td>\n",
       "      <td>Never-married</td>\n",
       "      <td>Adm-clerical</td>\n",
       "      <td>Not-in-family</td>\n",
       "      <td>White</td>\n",
       "      <td>Male</td>\n",
       "      <td>2174</td>\n",
       "      <td>0</td>\n",
       "      <td>40</td>\n",
       "      <td>United-States</td>\n",
       "    </tr>\n",
       "    <tr>\n",
       "      <th>1</th>\n",
       "      <td>50</td>\n",
       "      <td>Self-emp-not-inc</td>\n",
       "      <td>83311</td>\n",
       "      <td>Bachelors</td>\n",
       "      <td>13</td>\n",
       "      <td>Married-civ-spouse</td>\n",
       "      <td>Exec-managerial</td>\n",
       "      <td>Husband</td>\n",
       "      <td>White</td>\n",
       "      <td>Male</td>\n",
       "      <td>0</td>\n",
       "      <td>0</td>\n",
       "      <td>13</td>\n",
       "      <td>United-States</td>\n",
       "    </tr>\n",
       "    <tr>\n",
       "      <th>2</th>\n",
       "      <td>38</td>\n",
       "      <td>Private</td>\n",
       "      <td>215646</td>\n",
       "      <td>HS-grad</td>\n",
       "      <td>9</td>\n",
       "      <td>Divorced</td>\n",
       "      <td>Handlers-cleaners</td>\n",
       "      <td>Not-in-family</td>\n",
       "      <td>White</td>\n",
       "      <td>Male</td>\n",
       "      <td>0</td>\n",
       "      <td>0</td>\n",
       "      <td>40</td>\n",
       "      <td>United-States</td>\n",
       "    </tr>\n",
       "    <tr>\n",
       "      <th>3</th>\n",
       "      <td>53</td>\n",
       "      <td>Private</td>\n",
       "      <td>234721</td>\n",
       "      <td>11th</td>\n",
       "      <td>7</td>\n",
       "      <td>Married-civ-spouse</td>\n",
       "      <td>Handlers-cleaners</td>\n",
       "      <td>Husband</td>\n",
       "      <td>Black</td>\n",
       "      <td>Male</td>\n",
       "      <td>0</td>\n",
       "      <td>0</td>\n",
       "      <td>40</td>\n",
       "      <td>United-States</td>\n",
       "    </tr>\n",
       "    <tr>\n",
       "      <th>4</th>\n",
       "      <td>28</td>\n",
       "      <td>Private</td>\n",
       "      <td>338409</td>\n",
       "      <td>Bachelors</td>\n",
       "      <td>13</td>\n",
       "      <td>Married-civ-spouse</td>\n",
       "      <td>Prof-specialty</td>\n",
       "      <td>Wife</td>\n",
       "      <td>Black</td>\n",
       "      <td>Female</td>\n",
       "      <td>0</td>\n",
       "      <td>0</td>\n",
       "      <td>40</td>\n",
       "      <td>Cuba</td>\n",
       "    </tr>\n",
       "  </tbody>\n",
       "</table>\n",
       "</div>"
      ],
      "text/plain": [
       "   age         workclass  fnlwgt  education  education-num  \\\n",
       "0   39         State-gov   77516  Bachelors             13   \n",
       "1   50  Self-emp-not-inc   83311  Bachelors             13   \n",
       "2   38           Private  215646    HS-grad              9   \n",
       "3   53           Private  234721       11th              7   \n",
       "4   28           Private  338409  Bachelors             13   \n",
       "\n",
       "       marital-status         occupation   relationship   race     sex  \\\n",
       "0       Never-married       Adm-clerical  Not-in-family  White    Male   \n",
       "1  Married-civ-spouse    Exec-managerial        Husband  White    Male   \n",
       "2            Divorced  Handlers-cleaners  Not-in-family  White    Male   \n",
       "3  Married-civ-spouse  Handlers-cleaners        Husband  Black    Male   \n",
       "4  Married-civ-spouse     Prof-specialty           Wife  Black  Female   \n",
       "\n",
       "   capital-gain  capital-loss  hours-per-week native-country  \n",
       "0          2174             0              40  United-States  \n",
       "1             0             0              13  United-States  \n",
       "2             0             0              40  United-States  \n",
       "3             0             0              40  United-States  \n",
       "4             0             0              40           Cuba  "
      ]
     },
     "execution_count": 3,
     "metadata": {},
     "output_type": "execute_result"
    }
   ],
   "source": [
    "X = df.drop('income', axis=1)\n",
    "y = df['income']\n",
    "\n",
    "X.head()"
   ]
  },
  {
   "cell_type": "markdown",
   "id": "3a78bc02",
   "metadata": {},
   "source": [
    "Split the data into a set for training and a set for testing."
   ]
  },
  {
   "cell_type": "code",
   "execution_count": 4,
   "id": "db48418c",
   "metadata": {},
   "outputs": [
    {
     "data": {
      "text/plain": [
       "(22792, 14)"
      ]
     },
     "execution_count": 4,
     "metadata": {},
     "output_type": "execute_result"
    }
   ],
   "source": [
    "X_train, X_test, y_train, y_test = train_test_split(X, y, test_size = 0.3, random_state=1234)\n",
    "X_train.shape"
   ]
  },
  {
   "cell_type": "markdown",
   "id": "31947eb1",
   "metadata": {},
   "source": [
    "## Data Pre-Processing"
   ]
  },
  {
   "cell_type": "markdown",
   "id": "d65e19b5",
   "metadata": {},
   "source": [
    "The training algorithm we will use is **Random Forest** from `sklearn` which cannot handle missing values or categorical data. First we will fill missing values with the mode (most common value) in each feature.\n",
    "\n",
    "### Fill Missing Values"
   ]
  },
  {
   "cell_type": "code",
   "execution_count": 5,
   "id": "be67e322",
   "metadata": {},
   "outputs": [
    {
     "name": "stdout",
     "output_type": "stream",
     "text": [
      "<class 'pandas.core.frame.DataFrame'>\n",
      "Int64Index: 22792 entries, 29700 to 27439\n",
      "Data columns (total 14 columns):\n",
      " #   Column          Non-Null Count  Dtype \n",
      "---  ------          --------------  ----- \n",
      " 0   age             22792 non-null  int64 \n",
      " 1   workclass       21526 non-null  object\n",
      " 2   fnlwgt          22792 non-null  int64 \n",
      " 3   education       22792 non-null  object\n",
      " 4   education-num   22792 non-null  int64 \n",
      " 5   marital-status  22792 non-null  object\n",
      " 6   occupation      21522 non-null  object\n",
      " 7   relationship    22792 non-null  object\n",
      " 8   race            22792 non-null  object\n",
      " 9   sex             22792 non-null  object\n",
      " 10  capital-gain    22792 non-null  int64 \n",
      " 11  capital-loss    22792 non-null  int64 \n",
      " 12  hours-per-week  22792 non-null  int64 \n",
      " 13  native-country  22390 non-null  object\n",
      "dtypes: int64(6), object(8)\n",
      "memory usage: 2.6+ MB\n"
     ]
    }
   ],
   "source": [
    "X_train.info()"
   ]
  },
  {
   "cell_type": "code",
   "execution_count": 6,
   "id": "8d1faa77",
   "metadata": {},
   "outputs": [
    {
     "name": "stdout",
     "output_type": "stream",
     "text": [
      "<class 'pandas.core.frame.DataFrame'>\n",
      "Int64Index: 9769 entries, 1055 to 1439\n",
      "Data columns (total 14 columns):\n",
      " #   Column          Non-Null Count  Dtype \n",
      "---  ------          --------------  ----- \n",
      " 0   age             9769 non-null   int64 \n",
      " 1   workclass       9199 non-null   object\n",
      " 2   fnlwgt          9769 non-null   int64 \n",
      " 3   education       9769 non-null   object\n",
      " 4   education-num   9769 non-null   int64 \n",
      " 5   marital-status  9769 non-null   object\n",
      " 6   occupation      9196 non-null   object\n",
      " 7   relationship    9769 non-null   object\n",
      " 8   race            9769 non-null   object\n",
      " 9   sex             9769 non-null   object\n",
      " 10  capital-gain    9769 non-null   int64 \n",
      " 11  capital-loss    9769 non-null   int64 \n",
      " 12  hours-per-week  9769 non-null   int64 \n",
      " 13  native-country  9588 non-null   object\n",
      "dtypes: int64(6), object(8)\n",
      "memory usage: 1.1+ MB\n"
     ]
    }
   ],
   "source": [
    "X_test.info()"
   ]
  },
  {
   "cell_type": "code",
   "execution_count": 7,
   "id": "0aa395e4",
   "metadata": {},
   "outputs": [],
   "source": [
    "def get_train_test_modes(X_train, X_test):\n",
    "    train_mode = dict(X_train.mode().iloc[0])\n",
    "    test_mode = dict(X_test.mode().iloc[0])\n",
    "    \n",
    "    return train_mode, test_mode"
   ]
  },
  {
   "cell_type": "code",
   "execution_count": 8,
   "id": "25639fc0",
   "metadata": {},
   "outputs": [
    {
     "data": {
      "text/plain": [
       "{'age': 31.0,\n",
       " 'workclass': 'Private',\n",
       " 'fnlwgt': 121124,\n",
       " 'education': 'HS-grad',\n",
       " 'education-num': 9.0,\n",
       " 'marital-status': 'Married-civ-spouse',\n",
       " 'occupation': 'Prof-specialty',\n",
       " 'relationship': 'Husband',\n",
       " 'race': 'White',\n",
       " 'sex': 'Male',\n",
       " 'capital-gain': 0.0,\n",
       " 'capital-loss': 0.0,\n",
       " 'hours-per-week': 40.0,\n",
       " 'native-country': 'United-States'}"
      ]
     },
     "execution_count": 8,
     "metadata": {},
     "output_type": "execute_result"
    }
   ],
   "source": [
    "train_mode, test_mode = get_train_test_modes(X_train, X_test)\n",
    "train_mode"
   ]
  },
  {
   "cell_type": "code",
   "execution_count": 9,
   "id": "da06217d",
   "metadata": {},
   "outputs": [
    {
     "data": {
      "text/plain": [
       "{'age': 35.0,\n",
       " 'workclass': 'Private',\n",
       " 'fnlwgt': 203488,\n",
       " 'education': 'HS-grad',\n",
       " 'education-num': 9.0,\n",
       " 'marital-status': 'Married-civ-spouse',\n",
       " 'occupation': 'Prof-specialty',\n",
       " 'relationship': 'Husband',\n",
       " 'race': 'White',\n",
       " 'sex': 'Male',\n",
       " 'capital-gain': 0.0,\n",
       " 'capital-loss': 0.0,\n",
       " 'hours-per-week': 40.0,\n",
       " 'native-country': 'United-States'}"
      ]
     },
     "execution_count": 9,
     "metadata": {},
     "output_type": "execute_result"
    }
   ],
   "source": [
    "test_mode"
   ]
  },
  {
   "cell_type": "code",
   "execution_count": 10,
   "id": "9f9f0179",
   "metadata": {},
   "outputs": [
    {
     "name": "stdout",
     "output_type": "stream",
     "text": [
      "<class 'pandas.core.frame.DataFrame'>\n",
      "Int64Index: 22792 entries, 29700 to 27439\n",
      "Data columns (total 14 columns):\n",
      " #   Column          Non-Null Count  Dtype \n",
      "---  ------          --------------  ----- \n",
      " 0   age             22792 non-null  int64 \n",
      " 1   workclass       22792 non-null  object\n",
      " 2   fnlwgt          22792 non-null  int64 \n",
      " 3   education       22792 non-null  object\n",
      " 4   education-num   22792 non-null  int64 \n",
      " 5   marital-status  22792 non-null  object\n",
      " 6   occupation      22792 non-null  object\n",
      " 7   relationship    22792 non-null  object\n",
      " 8   race            22792 non-null  object\n",
      " 9   sex             22792 non-null  object\n",
      " 10  capital-gain    22792 non-null  int64 \n",
      " 11  capital-loss    22792 non-null  int64 \n",
      " 12  hours-per-week  22792 non-null  int64 \n",
      " 13  native-country  22792 non-null  object\n",
      "dtypes: int64(6), object(8)\n",
      "memory usage: 2.6+ MB\n"
     ]
    }
   ],
   "source": [
    "X_train = X_train.fillna(train_mode)\n",
    "X_train.info()"
   ]
  },
  {
   "cell_type": "code",
   "execution_count": 11,
   "id": "0e5907ed",
   "metadata": {},
   "outputs": [
    {
     "name": "stdout",
     "output_type": "stream",
     "text": [
      "<class 'pandas.core.frame.DataFrame'>\n",
      "Int64Index: 9769 entries, 1055 to 1439\n",
      "Data columns (total 14 columns):\n",
      " #   Column          Non-Null Count  Dtype \n",
      "---  ------          --------------  ----- \n",
      " 0   age             9769 non-null   int64 \n",
      " 1   workclass       9769 non-null   object\n",
      " 2   fnlwgt          9769 non-null   int64 \n",
      " 3   education       9769 non-null   object\n",
      " 4   education-num   9769 non-null   int64 \n",
      " 5   marital-status  9769 non-null   object\n",
      " 6   occupation      9769 non-null   object\n",
      " 7   relationship    9769 non-null   object\n",
      " 8   race            9769 non-null   object\n",
      " 9   sex             9769 non-null   object\n",
      " 10  capital-gain    9769 non-null   int64 \n",
      " 11  capital-loss    9769 non-null   int64 \n",
      " 12  hours-per-week  9769 non-null   int64 \n",
      " 13  native-country  9769 non-null   object\n",
      "dtypes: int64(6), object(8)\n",
      "memory usage: 1.1+ MB\n"
     ]
    }
   ],
   "source": [
    "X_test = X_test.fillna(test_mode)\n",
    "X_test.info()"
   ]
  },
  {
   "cell_type": "markdown",
   "id": "abb57f1f",
   "metadata": {},
   "source": [
    "### Encode Categorical Data\n",
    "The original tutorial uses the `LabelEncoder` from `sklearn`, but the docs say it should not be used on input. Instead, we will use the `OrdinalEncoder` according to [this tutorial](https://machinelearningmastery.com/how-to-prepare-categorical-data-for-deep-learning-in-python/) which maps each unique label to an integer. The tutorial provides the following advice and `prepare_inputs` function:\n",
    ">The best practice when encoding variables is to fit the encoding on the training dataset, then apply it to the train and test datasets."
   ]
  },
  {
   "cell_type": "code",
   "execution_count": 12,
   "id": "2ce6f58b",
   "metadata": {},
   "outputs": [],
   "source": [
    "def prepare_inputs(X_train, X_test, X=None):\n",
    "    \"\"\"\n",
    "    Maps categorical data to integers using an OrdinalEncoder trained on the X_train set.\n",
    "    \n",
    "    If the unique values in X_test do not match those of X_train, then an error will be thrown.\n",
    "    In that case, providing the original data set X will allow the encoder to train on all values.\n",
    "    \"\"\"\n",
    "    oe = OrdinalEncoder()\n",
    "    if X is not None:\n",
    "        oe.fit(X)\n",
    "    else:\n",
    "        oe.fit(X_train)\n",
    "\n",
    "    X_train = oe.transform(X_train)\n",
    "    X_test = oe.transform(X_test)\n",
    "    \n",
    "    return X_train, X_test, oe"
   ]
  },
  {
   "cell_type": "code",
   "execution_count": 13,
   "id": "d114ecb7",
   "metadata": {},
   "outputs": [
    {
     "data": {
      "text/plain": [
       "array(['workclass', 'education', 'marital-status', 'occupation',\n",
       "       'relationship', 'race', 'sex', 'native-country'], dtype=object)"
      ]
     },
     "execution_count": 13,
     "metadata": {},
     "output_type": "execute_result"
    }
   ],
   "source": [
    "categories = [\n",
    "    'workclass',\n",
    "    'education',\n",
    "    'marital-status',\n",
    "    'occupation',\n",
    "    'relationship',\n",
    "    'race',\n",
    "    'sex',\n",
    "    'native-country'\n",
    "]\n",
    "\n",
    "X_train_encoded, X_test_encoded, encoder = prepare_inputs(X_train[categories], X_test[categories], X[categories])\n",
    "X_train_encoded = pd.DataFrame(data=X_train_encoded, columns=categories)\n",
    "X_test_encoded = pd.DataFrame(data=X_test_encoded, columns=categories)\n",
    "\n",
    "encoder.feature_names_in_"
   ]
  },
  {
   "cell_type": "code",
   "execution_count": 14,
   "id": "7971be0b",
   "metadata": {
    "scrolled": false
   },
   "outputs": [
    {
     "name": "stdout",
     "output_type": "stream",
     "text": [
      "<class 'pandas.core.frame.DataFrame'>\n",
      "Int64Index: 22792 entries, 29700 to 27439\n",
      "Data columns (total 14 columns):\n",
      " #   Column          Non-Null Count  Dtype  \n",
      "---  ------          --------------  -----  \n",
      " 0   age             22792 non-null  int64  \n",
      " 1   workclass       22792 non-null  float64\n",
      " 2   fnlwgt          22792 non-null  int64  \n",
      " 3   education       22792 non-null  float64\n",
      " 4   education-num   22792 non-null  int64  \n",
      " 5   marital-status  22792 non-null  float64\n",
      " 6   occupation      22792 non-null  float64\n",
      " 7   relationship    22792 non-null  float64\n",
      " 8   race            22792 non-null  float64\n",
      " 9   sex             22792 non-null  float64\n",
      " 10  capital-gain    22792 non-null  int64  \n",
      " 11  capital-loss    22792 non-null  int64  \n",
      " 12  hours-per-week  22792 non-null  int64  \n",
      " 13  native-country  22792 non-null  float64\n",
      "dtypes: float64(8), int64(6)\n",
      "memory usage: 2.6 MB\n"
     ]
    }
   ],
   "source": [
    "for cat in categories:\n",
    "    X_train[cat] = X_train_encoded[cat].values\n",
    "    X_test[cat] = X_test_encoded[cat].values\n",
    "\n",
    "X_train.info()"
   ]
  },
  {
   "cell_type": "code",
   "execution_count": 15,
   "id": "624014f6",
   "metadata": {},
   "outputs": [
    {
     "name": "stdout",
     "output_type": "stream",
     "text": [
      "<class 'pandas.core.frame.DataFrame'>\n",
      "Int64Index: 9769 entries, 1055 to 1439\n",
      "Data columns (total 14 columns):\n",
      " #   Column          Non-Null Count  Dtype  \n",
      "---  ------          --------------  -----  \n",
      " 0   age             9769 non-null   int64  \n",
      " 1   workclass       9769 non-null   float64\n",
      " 2   fnlwgt          9769 non-null   int64  \n",
      " 3   education       9769 non-null   float64\n",
      " 4   education-num   9769 non-null   int64  \n",
      " 5   marital-status  9769 non-null   float64\n",
      " 6   occupation      9769 non-null   float64\n",
      " 7   relationship    9769 non-null   float64\n",
      " 8   race            9769 non-null   float64\n",
      " 9   sex             9769 non-null   float64\n",
      " 10  capital-gain    9769 non-null   int64  \n",
      " 11  capital-loss    9769 non-null   int64  \n",
      " 12  hours-per-week  9769 non-null   int64  \n",
      " 13  native-country  9769 non-null   float64\n",
      "dtypes: float64(8), int64(6)\n",
      "memory usage: 1.1 MB\n"
     ]
    }
   ],
   "source": [
    "X_test.info()"
   ]
  },
  {
   "cell_type": "markdown",
   "id": "518ad344",
   "metadata": {},
   "source": [
    "## Algorithm Training\n",
    "The next step is to train two ML algorithms: **Random Forest** and **Extra Trees**."
   ]
  },
  {
   "cell_type": "code",
   "execution_count": 16,
   "id": "883b33b0",
   "metadata": {},
   "outputs": [
    {
     "name": "stdout",
     "output_type": "stream",
     "text": [
      "Random forest model ready\n"
     ]
    }
   ],
   "source": [
    "rf = RandomForestClassifier(n_estimators=100)\n",
    "rf = rf.fit(X_train, y_train)\n",
    "print(\"Random forest model ready\")"
   ]
  },
  {
   "cell_type": "code",
   "execution_count": 17,
   "id": "c2a0a9b5",
   "metadata": {},
   "outputs": [
    {
     "name": "stdout",
     "output_type": "stream",
     "text": [
      "Extra trees model ready\n"
     ]
    }
   ],
   "source": [
    "et = ExtraTreesClassifier(n_estimators=100)\n",
    "et = et.fit(X_train, y_train)\n",
    "print(\"Extra trees model ready\")"
   ]
  },
  {
   "cell_type": "code",
   "execution_count": 18,
   "id": "de08e9f5",
   "metadata": {},
   "outputs": [],
   "source": [
    "y_pred_rf = rf.predict(X_test)\n",
    "y_pred_et = et.predict(X_test)"
   ]
  },
  {
   "cell_type": "code",
   "execution_count": 19,
   "id": "fc994137",
   "metadata": {},
   "outputs": [],
   "source": [
    "from sklearn.metrics import confusion_matrix\n",
    "\n",
    "cm_rf = confusion_matrix(y_test, y_pred_rf)\n",
    "cm_et = confusion_matrix(y_test, y_pred_et)"
   ]
  },
  {
   "cell_type": "code",
   "execution_count": 20,
   "id": "2ac74b33",
   "metadata": {},
   "outputs": [
    {
     "data": {
      "text/plain": [
       "array([[6913,  556],\n",
       "       [ 895, 1405]])"
      ]
     },
     "execution_count": 20,
     "metadata": {},
     "output_type": "execute_result"
    }
   ],
   "source": [
    "cm_rf"
   ]
  },
  {
   "cell_type": "code",
   "execution_count": 21,
   "id": "537b8353",
   "metadata": {},
   "outputs": [
    {
     "data": {
      "text/plain": [
       "array([[6822,  647],\n",
       "       [ 930, 1370]])"
      ]
     },
     "execution_count": 21,
     "metadata": {},
     "output_type": "execute_result"
    }
   ],
   "source": [
    "cm_et"
   ]
  },
  {
   "cell_type": "markdown",
   "id": "fa4a7f66",
   "metadata": {},
   "source": [
    "The **Random Forest** classifier seems to perform better with this dataset.\n",
    "\n",
    "The final step is to save our preprocessing objects (e.g., mode values and encoders) and ML models. We use [joblib](https://joblib.readthedocs.io/) which is a package specially designed to handle efficient computing and storage of large data."
   ]
  },
  {
   "cell_type": "code",
   "execution_count": 33,
   "id": "c18fe94a",
   "metadata": {},
   "outputs": [
    {
     "data": {
      "text/plain": [
       "['./extra_trees.joblib']"
      ]
     },
     "execution_count": 33,
     "metadata": {},
     "output_type": "execute_result"
    }
   ],
   "source": [
    "joblib.dump(train_mode, './train_mode.joblib', compress=True)\n",
    "joblib.dump(test_mode, './test_mode.joblib', compress=True)\n",
    "joblib.dump(encoder, './encoder.joblib', compress=True)\n",
    "joblib.dump(rf, './random_forest.joblib', compress=True)\n",
    "joblib.dump(et, './extra_trees.joblib', compress=True)"
   ]
  },
  {
   "cell_type": "code",
   "execution_count": null,
   "id": "34cfa05a",
   "metadata": {},
   "outputs": [],
   "source": []
  }
 ],
 "metadata": {
  "kernelspec": {
   "display_name": ".venv",
   "language": "python",
   "name": ".venv"
  },
  "language_info": {
   "codemirror_mode": {
    "name": "ipython",
    "version": 3
   },
   "file_extension": ".py",
   "mimetype": "text/x-python",
   "name": "python",
   "nbconvert_exporter": "python",
   "pygments_lexer": "ipython3",
   "version": "3.8.3"
  }
 },
 "nbformat": 4,
 "nbformat_minor": 5
}
